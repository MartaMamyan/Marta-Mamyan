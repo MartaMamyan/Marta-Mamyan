{
 "cells": [
  {
   "cell_type": "code",
   "execution_count": 31,
   "metadata": {},
   "outputs": [],
   "source": [
    "import numpy as np\n",
    "import pandas as pd\n",
    "import matplotlib.pyplot as plt\n",
    "import seaborn as sns\n",
    "from sklearn.model_selection import train_test_split, cross_val_score\n",
    "from statsmodels.discrete.discrete_model import Logit, MNLogit\n",
    "from sklearn.linear_model import LogisticRegression\n",
    "from sklearn.metrics import confusion_matrix, classification_report\n",
    "from sklearn.model_selection import GridSearchCV\n",
    "from sklearn.metrics import recall_score, roc_auc_score, roc_curve, accuracy_score\n",
    "from sklearn.preprocessing import Imputer \n",
    "from sklearn.preprocessing import label_binarize\n",
    "from sklearn.tree import DecisionTreeClassifier,export_graphviz \n",
    "from sklearn.neural_network import MLPClassifier\n",
    "from sklearn.ensemble import RandomForestClassifier\n",
    "from sklearn.metrics import * #import all metrics\n",
    "\n"
   ]
  },
  {
   "cell_type": "code",
   "execution_count": 8,
   "metadata": {},
   "outputs": [],
   "source": [
    "data=pd.read_excel(\"SE_MGMT.xlsx\")"
   ]
  },
  {
   "cell_type": "code",
   "execution_count": 9,
   "metadata": {},
   "outputs": [
    {
     "data": {
      "text/plain": [
       "Country       False\n",
       "Setid         False\n",
       "Gender        False\n",
       "Age           False\n",
       "Edu           False\n",
       "Income        False\n",
       "Employment     True\n",
       "GovEff        False\n",
       "EconFree       True\n",
       "GDP           False\n",
       "GDP2          False\n",
       "Econ          False\n",
       "TEA_SEA       False\n",
       "SE_sestart     True\n",
       "GDPcat        False\n",
       "dtype: bool"
      ]
     },
     "execution_count": 9,
     "metadata": {},
     "output_type": "execute_result"
    }
   ],
   "source": [
    "data.isnull().any()"
   ]
  },
  {
   "cell_type": "code",
   "execution_count": 10,
   "metadata": {},
   "outputs": [],
   "source": [
    "data.drop(\"Country\",axis=1, inplace=True) #dropping the variables that we are not going to use in our model\n",
    "data.drop(\"Setid\",axis=1, inplace=True) \n",
    "data.drop(\"GovEff\",axis=1, inplace=True)\n",
    "data.drop(\"EconFree\",axis=1, inplace=True)\n",
    "data.drop(\"GDP\",axis=1, inplace=True)\n",
    "data.drop(\"GDP2\",axis=1, inplace=True) \n",
    "data.drop(\"TEA_SEA\",axis=1, inplace=True) \n",
    "data.drop(\"GDPcat\",axis=1, inplace=True)"
   ]
  },
  {
   "cell_type": "code",
   "execution_count": 11,
   "metadata": {},
   "outputs": [],
   "source": [
    "data.dropna(axis=0,inplace=True)"
   ]
  },
  {
   "cell_type": "code",
   "execution_count": 12,
   "metadata": {},
   "outputs": [
    {
     "data": {
      "text/plain": [
       "Gender        False\n",
       "Age           False\n",
       "Edu           False\n",
       "Income        False\n",
       "Employment    False\n",
       "Econ          False\n",
       "SE_sestart    False\n",
       "dtype: bool"
      ]
     },
     "execution_count": 12,
     "metadata": {},
     "output_type": "execute_result"
    }
   ],
   "source": [
    "data.isnull().any()"
   ]
  },
  {
   "cell_type": "code",
   "execution_count": 34,
   "metadata": {},
   "outputs": [
    {
     "name": "stdout",
     "output_type": "stream",
     "text": [
      "<class 'pandas.core.frame.DataFrame'>\n",
      "Int64Index: 147978 entries, 0 to 152202\n",
      "Data columns (total 7 columns):\n",
      "Gender        147978 non-null object\n",
      "Age           147978 non-null int64\n",
      "Edu           147978 non-null object\n",
      "Income        147978 non-null object\n",
      "Employment    147978 non-null object\n",
      "Econ          147978 non-null object\n",
      "SE_sestart    147978 non-null float64\n",
      "dtypes: float64(1), int64(1), object(5)\n",
      "memory usage: 9.0+ MB\n"
     ]
    }
   ],
   "source": [
    "data.info()"
   ]
  },
  {
   "cell_type": "code",
   "execution_count": 13,
   "metadata": {},
   "outputs": [],
   "source": [
    "data_numeric=data.select_dtypes(exclude=\"object\")\n",
    "data_object=data.select_dtypes(include=\"object\")"
   ]
  },
  {
   "cell_type": "markdown",
   "metadata": {},
   "source": [
    "# Descriptive statistics"
   ]
  },
  {
   "cell_type": "code",
   "execution_count": 14,
   "metadata": {},
   "outputs": [
    {
     "data": {
      "text/plain": [
       "Age           False\n",
       "SE_sestart    False\n",
       "dtype: bool"
      ]
     },
     "execution_count": 14,
     "metadata": {},
     "output_type": "execute_result"
    }
   ],
   "source": [
    "data_numeric.var()==0"
   ]
  },
  {
   "cell_type": "code",
   "execution_count": 15,
   "metadata": {},
   "outputs": [
    {
     "name": "stdout",
     "output_type": "stream",
     "text": [
      "female    78637\n",
      "male      69341\n",
      "Name: Gender, dtype: int64\n",
      "\n",
      " *********************\n",
      "bachelor     50145\n",
      "masters      49905\n",
      "secondary    30371\n",
      "primary      13763\n",
      "doctoral      3794\n",
      "Name: Edu, dtype: int64\n",
      "\n",
      " *********************\n",
      "Second_33_percent    71036\n",
      "Third_33_percent     50263\n",
      "First_33_percent     26679\n",
      "Name: Income, dtype: int64\n",
      "\n",
      " *********************\n",
      "no     91294\n",
      "yes    56684\n",
      "Name: Employment, dtype: int64\n",
      "\n",
      " *********************\n",
      "Developed_economy                  99490\n",
      "Rapidly_industrialising_economy    37071\n",
      "Less_developed_economy             11417\n",
      "Name: Econ, dtype: int64\n",
      "\n",
      " *********************\n"
     ]
    }
   ],
   "source": [
    "for i in data_object.columns:\n",
    "    print(data[i].value_counts())\n",
    "    print(\"\\n\",\"*********************\")"
   ]
  },
  {
   "cell_type": "code",
   "execution_count": null,
   "metadata": {},
   "outputs": [],
   "source": []
  },
  {
   "cell_type": "code",
   "execution_count": 18,
   "metadata": {},
   "outputs": [],
   "source": []
  },
  {
   "cell_type": "code",
   "execution_count": 19,
   "metadata": {},
   "outputs": [],
   "source": [
    "data_final=data_numeric.join(data_dummies)"
   ]
  },
  {
   "cell_type": "code",
   "execution_count": 20,
   "metadata": {},
   "outputs": [
    {
     "data": {
      "image/png": "[encoded data removed]",
      "text/plain": [
       "<Figure size 648x504 with 2 Axes>"
      ]
     },
     "metadata": {},
     "output_type": "display_data"
    }
   ],
   "source": [
    "plt.figure(figsize=(9, 7)) #lets check the correlation between all the variables\n",
    "sns.heatmap(data_final.corr().abs().round(2), annot=True)\n",
    "plt.show()   #we see that none of the variables are highly correlated "
   ]
  },
  {
   "cell_type": "markdown",
   "metadata": {},
   "source": []
  },
  {
   "cell_type": "code",
   "execution_count": 22,
   "metadata": {
    "scrolled": true
   },
   "outputs": [
    {
     "data": {
      "image/png": "[encoded data removed]",
      "text/plain": [
       "<Figure size 432x288 with 1 Axes>"
      ]
     },
     "metadata": {},
     "output_type": "display_data"
    },
    {
     "name": "stdout",
     "output_type": "stream",
     "text": [
      "0.0    95.36\n",
      "1.0     4.64\n",
      "Name: SE_sestart, dtype: float64\n"
     ]
    }
   ],
   "source": [
    "sns.countplot(data_final.SE_sestart)\n",
    "plt.show()\n",
    "print((data_final.SE_sestart.value_counts()/len(data)*100).round(2)) #highly imbalanced data"
   ]
  },
  {
   "cell_type": "code",
   "execution_count": 86,
   "metadata": {
    "scrolled": true
   },
   "outputs": [
    {
     "data": {
      "text/html": [
       "<div>\n",
       "<style scoped>\n",
       "    .dataframe tbody tr th:only-of-type {\n",
       "        vertical-align: middle;\n",
       "    }\n",
       "\n",
       "    .dataframe tbody tr th {\n",
       "        vertical-align: top;\n",
       "    }\n",
       "\n",
       "    .dataframe thead th {\n",
       "        text-align: right;\n",
       "    }\n",
       "</style>\n",
       "<table border=\"1\" class=\"dataframe\">\n",
       "  <thead>\n",
       "    <tr style=\"text-align: right;\">\n",
       "      <th>SE_sestart</th>\n",
       "      <th>0.0</th>\n",
       "      <th>1.0</th>\n",
       "      <th>All</th>\n",
       "    </tr>\n",
       "    <tr>\n",
       "      <th>Edu</th>\n",
       "      <th></th>\n",
       "      <th></th>\n",
       "      <th></th>\n",
       "    </tr>\n",
       "  </thead>\n",
       "  <tbody>\n",
       "    <tr>\n",
       "      <th>bachelor</th>\n",
       "      <td>47958</td>\n",
       "      <td>2187</td>\n",
       "      <td>50145</td>\n",
       "    </tr>\n",
       "    <tr>\n",
       "      <th>doctoral</th>\n",
       "      <td>3331</td>\n",
       "      <td>463</td>\n",
       "      <td>3794</td>\n",
       "    </tr>\n",
       "    <tr>\n",
       "      <th>masters</th>\n",
       "      <td>46900</td>\n",
       "      <td>3005</td>\n",
       "      <td>49905</td>\n",
       "    </tr>\n",
       "    <tr>\n",
       "      <th>primary</th>\n",
       "      <td>13356</td>\n",
       "      <td>407</td>\n",
       "      <td>13763</td>\n",
       "    </tr>\n",
       "    <tr>\n",
       "      <th>secondary</th>\n",
       "      <td>29574</td>\n",
       "      <td>797</td>\n",
       "      <td>30371</td>\n",
       "    </tr>\n",
       "    <tr>\n",
       "      <th>All</th>\n",
       "      <td>141119</td>\n",
       "      <td>6859</td>\n",
       "      <td>147978</td>\n",
       "    </tr>\n",
       "  </tbody>\n",
       "</table>\n",
       "</div>"
      ],
      "text/plain": [
       "SE_sestart     0.0   1.0     All\n",
       "Edu                             \n",
       "bachelor     47958  2187   50145\n",
       "doctoral      3331   463    3794\n",
       "masters      46900  3005   49905\n",
       "primary      13356   407   13763\n",
       "secondary    29574   797   30371\n",
       "All         141119  6859  147978"
      ]
     },
     "execution_count": 86,
     "metadata": {},
     "output_type": "execute_result"
    }
   ],
   "source": [
    "pd.crosstab(data.Edu, data.SE_sestart, margins=True)"
   ]
  },
  {
   "cell_type": "code",
   "execution_count": 87,
   "metadata": {},
   "outputs": [
    {
     "data": {
      "text/html": [
       "<div>\n",
       "<style scoped>\n",
       "    .dataframe tbody tr th:only-of-type {\n",
       "        vertical-align: middle;\n",
       "    }\n",
       "\n",
       "    .dataframe tbody tr th {\n",
       "        vertical-align: top;\n",
       "    }\n",
       "\n",
       "    .dataframe thead th {\n",
       "        text-align: right;\n",
       "    }\n",
       "</style>\n",
       "<table border=\"1\" class=\"dataframe\">\n",
       "  <thead>\n",
       "    <tr style=\"text-align: right;\">\n",
       "      <th>SE_sestart</th>\n",
       "      <th>0.0</th>\n",
       "      <th>1.0</th>\n",
       "      <th>All</th>\n",
       "    </tr>\n",
       "    <tr>\n",
       "      <th>Gender</th>\n",
       "      <th></th>\n",
       "      <th></th>\n",
       "      <th></th>\n",
       "    </tr>\n",
       "  </thead>\n",
       "  <tbody>\n",
       "    <tr>\n",
       "      <th>female</th>\n",
       "      <td>75479</td>\n",
       "      <td>3158</td>\n",
       "      <td>78637</td>\n",
       "    </tr>\n",
       "    <tr>\n",
       "      <th>male</th>\n",
       "      <td>65640</td>\n",
       "      <td>3701</td>\n",
       "      <td>69341</td>\n",
       "    </tr>\n",
       "    <tr>\n",
       "      <th>All</th>\n",
       "      <td>141119</td>\n",
       "      <td>6859</td>\n",
       "      <td>147978</td>\n",
       "    </tr>\n",
       "  </tbody>\n",
       "</table>\n",
       "</div>"
      ],
      "text/plain": [
       "SE_sestart     0.0   1.0     All\n",
       "Gender                          \n",
       "female       75479  3158   78637\n",
       "male         65640  3701   69341\n",
       "All         141119  6859  147978"
      ]
     },
     "execution_count": 87,
     "metadata": {},
     "output_type": "execute_result"
    }
   ],
   "source": [
    "pd.crosstab(data.Gender, data.SE_sestart, margins=True)"
   ]
  },
  {
   "cell_type": "code",
   "execution_count": null,
   "metadata": {},
   "outputs": [],
   "source": []
  },
  {
   "cell_type": "markdown",
   "metadata": {},
   "source": [
    "# Logistic Regression from statsmodel"
   ]
  },
  {
   "cell_type": "code",
   "execution_count": 23,
   "metadata": {},
   "outputs": [],
   "source": [
    "Y=data_final.SE_sestart\n",
    "X=data_final.drop(\"SE_sestart\",axis=1)\n",
    "x_train,x_test,y_train,y_test=train_test_split(X,Y,test_size=0.25,random_state=42)"
   ]
  },
  {
   "cell_type": "code",
   "execution_count": 24,
   "metadata": {},
   "outputs": [
    {
     "data": {
      "text/plain": [
       "'SE_sestart~Age+Gender_male+Edu_doctoral+Edu_masters+Edu_primary+Edu_secondary+Income_Second_33_percent+Income_Third_33_percent+Employment_yes+Econ_Less_developed_economy+Econ_Rapidly_industrialising_economy'"
      ]
     },
     "execution_count": 24,
     "metadata": {},
     "output_type": "execute_result"
    }
   ],
   "source": [
    "formula='SE_sestart~'+'+'.join(X.columns.tolist())\n",
    "formula"
   ]
  },
  {
   "cell_type": "code",
   "execution_count": 25,
   "metadata": {},
   "outputs": [
    {
     "name": "stdout",
     "output_type": "stream",
     "text": [
      "Optimization terminated successfully.\n",
      "         Current function value: 0.182294\n",
      "         Iterations 8\n"
     ]
    }
   ],
   "source": [
    "logit=Logit.from_formula(formula=formula, data=data_final).fit()"
   ]
  },
  {
   "cell_type": "code",
   "execution_count": 26,
   "metadata": {},
   "outputs": [
    {
     "data": {
      "text/html": [
       "<table class=\"simpletable\">\n",
       "<caption>Logit Regression Results</caption>\n",
       "<tr>\n",
       "  <th>Dep. Variable:</th>    <td>SE_sestart</td>    <th>  No. Observations:  </th>  <td>147978</td> \n",
       "</tr>\n",
       "<tr>\n",
       "  <th>Model:</th>               <td>Logit</td>      <th>  Df Residuals:      </th>  <td>147966</td> \n",
       "</tr>\n",
       "<tr>\n",
       "  <th>Method:</th>               <td>MLE</td>       <th>  Df Model:          </th>  <td>    11</td> \n",
       "</tr>\n",
       "<tr>\n",
       "  <th>Date:</th>          <td>Mon, 10 Dec 2018</td> <th>  Pseudo R-squ.:     </th>  <td>0.02843</td>\n",
       "</tr>\n",
       "<tr>\n",
       "  <th>Time:</th>              <td>14:48:08</td>     <th>  Log-Likelihood:    </th> <td> -26975.</td>\n",
       "</tr>\n",
       "<tr>\n",
       "  <th>converged:</th>           <td>True</td>       <th>  LL-Null:           </th> <td> -27765.</td>\n",
       "</tr>\n",
       "<tr>\n",
       "  <th> </th>                      <td> </td>        <th>  LLR p-value:       </th>  <td> 0.000</td> \n",
       "</tr>\n",
       "</table>\n",
       "<table class=\"simpletable\">\n",
       "<tr>\n",
       "                    <td></td>                      <th>coef</th>     <th>std err</th>      <th>z</th>      <th>P>|z|</th>  <th>[0.025</th>    <th>0.975]</th>  \n",
       "</tr>\n",
       "<tr>\n",
       "  <th>Intercept</th>                            <td>   -3.3023</td> <td>    0.057</td> <td>  -57.702</td> <td> 0.000</td> <td>   -3.414</td> <td>   -3.190</td>\n",
       "</tr>\n",
       "<tr>\n",
       "  <th>Age</th>                                  <td>   -0.0020</td> <td>    0.001</td> <td>   -2.296</td> <td> 0.022</td> <td>   -0.004</td> <td>   -0.000</td>\n",
       "</tr>\n",
       "<tr>\n",
       "  <th>Gender_male</th>                          <td>    0.2643</td> <td>    0.025</td> <td>   10.439</td> <td> 0.000</td> <td>    0.215</td> <td>    0.314</td>\n",
       "</tr>\n",
       "<tr>\n",
       "  <th>Edu_doctoral</th>                         <td>    1.1227</td> <td>    0.055</td> <td>   20.285</td> <td> 0.000</td> <td>    1.014</td> <td>    1.231</td>\n",
       "</tr>\n",
       "<tr>\n",
       "  <th>Edu_masters</th>                          <td>    0.3865</td> <td>    0.030</td> <td>   13.065</td> <td> 0.000</td> <td>    0.329</td> <td>    0.444</td>\n",
       "</tr>\n",
       "<tr>\n",
       "  <th>Edu_primary</th>                          <td>   -0.4420</td> <td>    0.056</td> <td>   -7.903</td> <td> 0.000</td> <td>   -0.552</td> <td>   -0.332</td>\n",
       "</tr>\n",
       "<tr>\n",
       "  <th>Edu_secondary</th>                        <td>   -0.5136</td> <td>    0.042</td> <td>  -12.110</td> <td> 0.000</td> <td>   -0.597</td> <td>   -0.430</td>\n",
       "</tr>\n",
       "<tr>\n",
       "  <th>Income_Second_33_percent</th>             <td>   -0.1103</td> <td>    0.038</td> <td>   -2.900</td> <td> 0.004</td> <td>   -0.185</td> <td>   -0.036</td>\n",
       "</tr>\n",
       "<tr>\n",
       "  <th>Income_Third_33_percent</th>              <td>    0.2138</td> <td>    0.039</td> <td>    5.491</td> <td> 0.000</td> <td>    0.137</td> <td>    0.290</td>\n",
       "</tr>\n",
       "<tr>\n",
       "  <th>Employment_yes</th>                       <td>   -0.1102</td> <td>    0.027</td> <td>   -4.101</td> <td> 0.000</td> <td>   -0.163</td> <td>   -0.058</td>\n",
       "</tr>\n",
       "<tr>\n",
       "  <th>Econ_Less_developed_economy</th>          <td>    0.4403</td> <td>    0.047</td> <td>    9.335</td> <td> 0.000</td> <td>    0.348</td> <td>    0.533</td>\n",
       "</tr>\n",
       "<tr>\n",
       "  <th>Econ_Rapidly_industrialising_economy</th> <td>    0.4395</td> <td>    0.029</td> <td>   15.393</td> <td> 0.000</td> <td>    0.384</td> <td>    0.495</td>\n",
       "</tr>\n",
       "</table>"
      ],
      "text/plain": [
       "<class 'statsmodels.iolib.summary.Summary'>\n",
       "\"\"\"\n",
       "                           Logit Regression Results                           \n",
       "==============================================================================\n",
       "Dep. Variable:             SE_sestart   No. Observations:               147978\n",
       "Model:                          Logit   Df Residuals:                   147966\n",
       "Method:                           MLE   Df Model:                           11\n",
       "Date:                Mon, 10 Dec 2018   Pseudo R-squ.:                 0.02843\n",
       "Time:                        14:48:08   Log-Likelihood:                -26975.\n",
       "converged:                       True   LL-Null:                       -27765.\n",
       "                                        LLR p-value:                     0.000\n",
       "========================================================================================================\n",
       "                                           coef    std err          z      P>|z|      [0.025      0.975]\n",
       "--------------------------------------------------------------------------------------------------------\n",
       "Intercept                               -3.3023      0.057    -57.702      0.000      -3.414      -3.190\n",
       "Age                                     -0.0020      0.001     -2.296      0.022      -0.004      -0.000\n",
       "Gender_male                              0.2643      0.025     10.439      0.000       0.215       0.314\n",
       "Edu_doctoral                             1.1227      0.055     20.285      0.000       1.014       1.231\n",
       "Edu_masters                              0.3865      0.030     13.065      0.000       0.329       0.444\n",
       "Edu_primary                             -0.4420      0.056     -7.903      0.000      -0.552      -0.332\n",
       "Edu_secondary                           -0.5136      0.042    -12.110      0.000      -0.597      -0.430\n",
       "Income_Second_33_percent                -0.1103      0.038     -2.900      0.004      -0.185      -0.036\n",
       "Income_Third_33_percent                  0.2138      0.039      5.491      0.000       0.137       0.290\n",
       "Employment_yes                          -0.1102      0.027     -4.101      0.000      -0.163      -0.058\n",
       "Econ_Less_developed_economy              0.4403      0.047      9.335      0.000       0.348       0.533\n",
       "Econ_Rapidly_industrialising_economy     0.4395      0.029     15.393      0.000       0.384       0.495\n",
       "========================================================================================================\n",
       "\"\"\""
      ]
     },
     "execution_count": 26,
     "metadata": {},
     "output_type": "execute_result"
    }
   ],
   "source": [
    "logit.summary()"
   ]
  },
  {
   "cell_type": "code",
   "execution_count": 27,
   "metadata": {
    "scrolled": true
   },
   "outputs": [
    {
     "data": {
      "text/html": [
       "<table class=\"simpletable\">\n",
       "<caption>Logit Marginal Effects</caption>\n",
       "<tr>\n",
       "  <th>Dep. Variable:</th> <td>SE_sestart</td>\n",
       "</tr>\n",
       "<tr>\n",
       "  <th>Method:</th>           <td>dydx</td>   \n",
       "</tr>\n",
       "<tr>\n",
       "  <th>At:</th>              <td>overall</td> \n",
       "</tr>\n",
       "</table>\n",
       "<table class=\"simpletable\">\n",
       "<tr>\n",
       "                    <th></th>                      <th>dy/dx</th>    <th>std err</th>      <th>z</th>      <th>P>|z|</th>  <th>[0.025</th>    <th>0.975]</th>  \n",
       "</tr>\n",
       "<tr>\n",
       "  <th>Age</th>                                  <td>-8.716e-05</td> <td>  3.8e-05</td> <td>   -2.295</td> <td> 0.022</td> <td>   -0.000</td> <td>-1.27e-05</td>\n",
       "</tr>\n",
       "<tr>\n",
       "  <th>Gender_male</th>                          <td>    0.0115</td> <td>    0.001</td> <td>   10.388</td> <td> 0.000</td> <td>    0.009</td> <td>    0.014</td>\n",
       "</tr>\n",
       "<tr>\n",
       "  <th>Edu_doctoral</th>                         <td>    0.0490</td> <td>    0.002</td> <td>   19.972</td> <td> 0.000</td> <td>    0.044</td> <td>    0.054</td>\n",
       "</tr>\n",
       "<tr>\n",
       "  <th>Edu_masters</th>                          <td>    0.0169</td> <td>    0.001</td> <td>   12.966</td> <td> 0.000</td> <td>    0.014</td> <td>    0.019</td>\n",
       "</tr>\n",
       "<tr>\n",
       "  <th>Edu_primary</th>                          <td>   -0.0193</td> <td>    0.002</td> <td>   -7.879</td> <td> 0.000</td> <td>   -0.024</td> <td>   -0.015</td>\n",
       "</tr>\n",
       "<tr>\n",
       "  <th>Edu_secondary</th>                        <td>   -0.0224</td> <td>    0.002</td> <td>  -12.022</td> <td> 0.000</td> <td>   -0.026</td> <td>   -0.019</td>\n",
       "</tr>\n",
       "<tr>\n",
       "  <th>Income_Second_33_percent</th>             <td>   -0.0048</td> <td>    0.002</td> <td>   -2.899</td> <td> 0.004</td> <td>   -0.008</td> <td>   -0.002</td>\n",
       "</tr>\n",
       "<tr>\n",
       "  <th>Income_Third_33_percent</th>              <td>    0.0093</td> <td>    0.002</td> <td>    5.483</td> <td> 0.000</td> <td>    0.006</td> <td>    0.013</td>\n",
       "</tr>\n",
       "<tr>\n",
       "  <th>Employment_yes</th>                       <td>   -0.0048</td> <td>    0.001</td> <td>   -4.098</td> <td> 0.000</td> <td>   -0.007</td> <td>   -0.003</td>\n",
       "</tr>\n",
       "<tr>\n",
       "  <th>Econ_Less_developed_economy</th>          <td>    0.0192</td> <td>    0.002</td> <td>    9.299</td> <td> 0.000</td> <td>    0.015</td> <td>    0.023</td>\n",
       "</tr>\n",
       "<tr>\n",
       "  <th>Econ_Rapidly_industrialising_economy</th> <td>    0.0192</td> <td>    0.001</td> <td>   15.234</td> <td> 0.000</td> <td>    0.017</td> <td>    0.022</td>\n",
       "</tr>\n",
       "</table>"
      ],
      "text/plain": [
       "<class 'statsmodels.iolib.summary.Summary'>\n",
       "\"\"\"\n",
       "        Logit Marginal Effects       \n",
       "=====================================\n",
       "Dep. Variable:             SE_sestart\n",
       "Method:                          dydx\n",
       "At:                           overall\n",
       "========================================================================================================\n",
       "                                          dy/dx    std err          z      P>|z|      [0.025      0.975]\n",
       "--------------------------------------------------------------------------------------------------------\n",
       "Age                                  -8.716e-05    3.8e-05     -2.295      0.022      -0.000   -1.27e-05\n",
       "Gender_male                              0.0115      0.001     10.388      0.000       0.009       0.014\n",
       "Edu_doctoral                             0.0490      0.002     19.972      0.000       0.044       0.054\n",
       "Edu_masters                              0.0169      0.001     12.966      0.000       0.014       0.019\n",
       "Edu_primary                             -0.0193      0.002     -7.879      0.000      -0.024      -0.015\n",
       "Edu_secondary                           -0.0224      0.002    -12.022      0.000      -0.026      -0.019\n",
       "Income_Second_33_percent                -0.0048      0.002     -2.899      0.004      -0.008      -0.002\n",
       "Income_Third_33_percent                  0.0093      0.002      5.483      0.000       0.006       0.013\n",
       "Employment_yes                          -0.0048      0.001     -4.098      0.000      -0.007      -0.003\n",
       "Econ_Less_developed_economy              0.0192      0.002      9.299      0.000       0.015       0.023\n",
       "Econ_Rapidly_industrialising_economy     0.0192      0.001     15.234      0.000       0.017       0.022\n",
       "========================================================================================================\n",
       "\"\"\""
      ]
     },
     "execution_count": 27,
     "metadata": {},
     "output_type": "execute_result"
    }
   ],
   "source": [
    "logit.get_margeff().summary()"
   ]
  },
  {
   "cell_type": "markdown",
   "metadata": {},
   "source": [
    "# Logistic Regression from sklearn, Decision tree, Random Forest "
   ]
  },
  {
   "cell_type": "code",
   "execution_count": 30,
   "metadata": {},
   "outputs": [],
   "source": [
    "grids_tree=GridSearchCV(DecisionTreeClassifier(random_state=42,class_weight='balanced'),\n",
    "                        param_grid={\"max_depth\":range(3,10),\"min_samples_leaf\":range(20,70)},\n",
    "                        cv=5,n_jobs=-1,scoring=\"roc_auc\").fit(X,Y)\n",
    "grids_logit=GridSearchCV(LogisticRegression(random_state=42,class_weight='balanced'),\n",
    "                        param_grid={\"C\":np.linspace(0.00001,20,10),\"penalty\":[\"l1\",\"l2\"]},\n",
    "                         cv=5,n_jobs=-1,scoring=\"roc_auc\").fit(X,Y)"
   ]
  },
  {
   "cell_type": "code",
   "execution_count": 32,
   "metadata": {},
   "outputs": [
    {
     "name": "stdout",
     "output_type": "stream",
     "text": [
      "Best params: {'class_weight': 'balanced', 'max_depth': 5, 'min_samples_leaf': 10}\n"
     ]
    }
   ],
   "source": [
    "print(\"Best params: {0}\".format(gridsearch.best_params_))"
   ]
  },
  {
   "cell_type": "code",
   "execution_count": 33,
   "metadata": {},
   "outputs": [
    {
     "data": {
      "text/plain": [
       "15.555557777777778"
      ]
     },
     "execution_count": 33,
     "metadata": {},
     "output_type": "execute_result"
    }
   ],
   "source": [
    "best=list(grids_logit.best_params_.values())[0]\n",
    "best"
   ]
  },
  {
   "cell_type": "code",
   "execution_count": null,
   "metadata": {},
   "outputs": [],
   "source": []
  },
  {
   "cell_type": "code",
   "execution_count": 36,
   "metadata": {},
   "outputs": [],
   "source": [
    "tree=DecisionTreeClassifier(random_state=42,class_weight='balanced',max_depth=5,min_samples_leaf=10).fit(x_train,y_train)\n",
    "logit=LogisticRegression(random_state=42,class_weight='balanced',C=best,penalty=\"l2\").fit(x_train,y_train)"
   ]
  },
  {
   "cell_type": "code",
   "execution_count": 40,
   "metadata": {},
   "outputs": [],
   "source": [
    "RF2=RandomForestClassifier(random_state=42,class_weight=\"balanced\",max_depth=5,min_samples_leaf=10,n_estimators=30).fit(x_train,y_train)"
   ]
  },
  {
   "cell_type": "markdown",
   "metadata": {},
   "source": [
    "# Accuracy, Recall, Roc_AUC"
   ]
  },
  {
   "cell_type": "code",
   "execution_count": 41,
   "metadata": {},
   "outputs": [
    {
     "name": "stdout",
     "output_type": "stream",
     "text": [
      "\n",
      " Recall\n",
      "tree 68.0\n",
      "logit 61.0\n",
      "Random Forest 63.0\n",
      "\n",
      " ROC_AUC\n",
      "tree 59.0\n",
      "logit 60.0\n",
      "Random Forest 60.0\n",
      "\n",
      " Accuracy\n",
      "tree 51.0\n",
      "logit 57.99999999999999\n",
      "Random Forest 56.99999999999999\n"
     ]
    }
   ],
   "source": [
    "#Train\n",
    "model={\"tree\":tree,\"logit\":logit, \"Random Forest\":RF2}\n",
    "scores={\"Recall\": recall_score,\"ROC_AUC\":roc_auc_score,\"Accuracy\":accuracy_score}\n",
    "for score_names,scores in scores.items():\n",
    "    print(\"\\n\",score_names)\n",
    "    for model_names, models in model.items():\n",
    "        print(model_names,scores(y_train,models.predict(x_train)).round(2)*100)"
   ]
  },
  {
   "cell_type": "code",
   "execution_count": 42,
   "metadata": {},
   "outputs": [
    {
     "name": "stdout",
     "output_type": "stream",
     "text": [
      "\n",
      " Recall\n",
      "tree 67.0\n",
      "logit 62.0\n",
      "Random Forest 60.0\n",
      "\n",
      " ROC_AUC\n",
      "tree 59.0\n",
      "logit 60.0\n",
      "Random Forest 57.99999999999999\n",
      "\n",
      " Accuracy\n",
      "tree 51.0\n",
      "logit 57.99999999999999\n",
      "Random Forest 56.99999999999999\n"
     ]
    }
   ],
   "source": [
    "#Test\n",
    "model={\"tree\":tree,\"logit\":logit, \"Random Forest\":RF2}\n",
    "scores={\"Recall\": recall_score,\"ROC_AUC\":roc_auc_score,\"Accuracy\":accuracy_score}\n",
    "for score_names,scores in scores.items():\n",
    "    print(\"\\n\",score_names)\n",
    "    for model_names, models in model.items():\n",
    "        print(model_names,scores(y_test,models.predict(x_test)).round(2)*100)"
   ]
  },
  {
   "cell_type": "code",
   "execution_count": 88,
   "metadata": {},
   "outputs": [
    {
     "name": "stdout",
     "output_type": "stream",
     "text": [
      "mean cross val score tree: 0.5709790062413045\n",
      "mean cross val score logit: 0.6159562886082008\n",
      "mean cross val score RF2: 0.5966993332666121\n"
     ]
    }
   ],
   "source": [
    "print(\"mean cross val score tree:\",np.mean(cross_val_score(tree,X,Y,cv=5,n_jobs=-1,scoring=\"roc_auc\")))\n",
    "print(\"mean cross val score logit:\",np.mean(cross_val_score(logit,X,Y,cv=5,n_jobs=-1,scoring=\"roc_auc\")))\n",
    "print(\"mean cross val score RF2:\",np.mean(cross_val_score(RF2,X,Y,cv=5,n_jobs=-1,scoring=\"roc_auc\")))"
   ]
  },
  {
   "cell_type": "code",
   "execution_count": 43,
   "metadata": {},
   "outputs": [
    {
     "data": {
      "image/png": "[encoded data removed]",
      "text/plain": [
       "<Figure size 432x288 with 1 Axes>"
      ]
     },
     "metadata": {},
     "output_type": "display_data"
    }
   ],
   "source": [
    "FPR,TPR,tresholds=roc_curve(y_test,tree.predict_proba(x_test)[:,1])\n",
    "plt.figure(figsize=(6,4))\n",
    "plt.plot(FPR,TPR,label=\"ROC AUC=%f\"%roc_auc_score(y_test,tree.predict(x_test)))\n",
    "plt.plot([0,1],[0,1])\n",
    "plt.legend(loc=\"lower right\")\n",
    "plt.xlabel(\"FPR\")\n",
    "plt.ylabel(\"TPR\")\n",
    "plt.show()"
   ]
  },
  {
   "cell_type": "code",
   "execution_count": 44,
   "metadata": {},
   "outputs": [
    {
     "data": {
      "text/html": [
       "<div>\n",
       "<style scoped>\n",
       "    .dataframe tbody tr th:only-of-type {\n",
       "        vertical-align: middle;\n",
       "    }\n",
       "\n",
       "    .dataframe tbody tr th {\n",
       "        vertical-align: top;\n",
       "    }\n",
       "\n",
       "    .dataframe thead th {\n",
       "        text-align: right;\n",
       "    }\n",
       "</style>\n",
       "<table border=\"1\" class=\"dataframe\">\n",
       "  <thead>\n",
       "    <tr style=\"text-align: right;\">\n",
       "      <th></th>\n",
       "      <th>importances</th>\n",
       "    </tr>\n",
       "  </thead>\n",
       "  <tbody>\n",
       "    <tr>\n",
       "      <th>Edu_secondary</th>\n",
       "      <td>0.281223</td>\n",
       "    </tr>\n",
       "    <tr>\n",
       "      <th>Edu_doctoral</th>\n",
       "      <td>0.145528</td>\n",
       "    </tr>\n",
       "    <tr>\n",
       "      <th>Edu_masters</th>\n",
       "      <td>0.138049</td>\n",
       "    </tr>\n",
       "    <tr>\n",
       "      <th>Econ_Rapidly_industrialising_economy</th>\n",
       "      <td>0.114843</td>\n",
       "    </tr>\n",
       "    <tr>\n",
       "      <th>Age</th>\n",
       "      <td>0.095511</td>\n",
       "    </tr>\n",
       "    <tr>\n",
       "      <th>Income_Third_33_percent</th>\n",
       "      <td>0.068667</td>\n",
       "    </tr>\n",
       "    <tr>\n",
       "      <th>Econ_Less_developed_economy</th>\n",
       "      <td>0.063228</td>\n",
       "    </tr>\n",
       "    <tr>\n",
       "      <th>Gender_male</th>\n",
       "      <td>0.052342</td>\n",
       "    </tr>\n",
       "    <tr>\n",
       "      <th>Edu_primary</th>\n",
       "      <td>0.023257</td>\n",
       "    </tr>\n",
       "    <tr>\n",
       "      <th>Employment_yes</th>\n",
       "      <td>0.016403</td>\n",
       "    </tr>\n",
       "    <tr>\n",
       "      <th>Income_Second_33_percent</th>\n",
       "      <td>0.000949</td>\n",
       "    </tr>\n",
       "  </tbody>\n",
       "</table>\n",
       "</div>"
      ],
      "text/plain": [
       "                                      importances\n",
       "Edu_secondary                            0.281223\n",
       "Edu_doctoral                             0.145528\n",
       "Edu_masters                              0.138049\n",
       "Econ_Rapidly_industrialising_economy     0.114843\n",
       "Age                                      0.095511\n",
       "Income_Third_33_percent                  0.068667\n",
       "Econ_Less_developed_economy              0.063228\n",
       "Gender_male                              0.052342\n",
       "Edu_primary                              0.023257\n",
       "Employment_yes                           0.016403\n",
       "Income_Second_33_percent                 0.000949"
      ]
     },
     "execution_count": 44,
     "metadata": {},
     "output_type": "execute_result"
    }
   ],
   "source": [
    "importance=pd.DataFrame(data=tree.feature_importances_,index=X.columns,columns=['importances'])\n",
    "importance.sort_values(by=\"importances\",ascending=False)"
   ]
  },
  {
   "cell_type": "code",
   "execution_count": 45,
   "metadata": {},
   "outputs": [],
   "source": [
    "tree_graph=export_graphviz(tree,out_file=\"tree.dot\", class_names=True, feature_names=X.columns, filled=True) \n",
    "#Go to http://webgraphviz.com/"
   ]
  },
  {
   "cell_type": "code",
   "execution_count": 56,
   "metadata": {},
   "outputs": [],
   "source": [
    "data1=pd.read_excel(\"SE_MGMT.xlsx\")"
   ]
  },
  {
   "cell_type": "code",
   "execution_count": 57,
   "metadata": {},
   "outputs": [],
   "source": [
    "data1=data1.drop(columns=[\"Setid\", \"Econ\", \"TEA_SEA\", \"GovEff\", \"EconFree\", \"GDP2\", \"GDP\", \"Country\"])"
   ]
  },
  {
   "cell_type": "code",
   "execution_count": 58,
   "metadata": {},
   "outputs": [
    {
     "data": {
      "text/plain": [
       "Gender        False\n",
       "Age           False\n",
       "Edu           False\n",
       "Income        False\n",
       "Employment     True\n",
       "SE_sestart     True\n",
       "GDPcat        False\n",
       "dtype: bool"
      ]
     },
     "execution_count": 58,
     "metadata": {},
     "output_type": "execute_result"
    }
   ],
   "source": [
    "data1.isnull().any()"
   ]
  },
  {
   "cell_type": "code",
   "execution_count": 59,
   "metadata": {},
   "outputs": [],
   "source": [
    "data1.dropna(axis=0,inplace=True)"
   ]
  },
  {
   "cell_type": "code",
   "execution_count": 63,
   "metadata": {},
   "outputs": [],
   "source": [
    "data_numeric1=data1.select_dtypes(exclude=\"object\")\n",
    "data_object1=data1.select_dtypes(include=\"object\")"
   ]
  },
  {
   "cell_type": "code",
   "execution_count": 64,
   "metadata": {},
   "outputs": [],
   "source": [
    "data_dummies1=pd.get_dummies(data_object1,prefix=data_object1.columns,drop_first=True)"
   ]
  },
  {
   "cell_type": "code",
   "execution_count": 65,
   "metadata": {},
   "outputs": [],
   "source": [
    "data_final1=data_numeric1.join(data_dummies1)"
   ]
  },
  {
   "cell_type": "markdown",
   "metadata": {},
   "source": [
    "# Logistic Regression from stats model"
   ]
  },
  {
   "cell_type": "code",
   "execution_count": 66,
   "metadata": {},
   "outputs": [],
   "source": [
    "Y1=data_final1.SE_sestart\n",
    "X1=data_final1.drop(\"SE_sestart\",axis=1)\n",
    "x_train1,x_test1,y_train1,y_test1=train_test_split(X1,Y1,test_size=0.25,random_state=42)"
   ]
  },
  {
   "cell_type": "code",
   "execution_count": 67,
   "metadata": {},
   "outputs": [
    {
     "data": {
      "text/plain": [
       "'SE_sestart~Age+Gender_male+Edu_doctoral+Edu_masters+Edu_primary+Edu_secondary+Income_Second_33_percent+Income_Third_33_percent+Employment_yes+GDPcat_low+GDPcat_medium'"
      ]
     },
     "execution_count": 67,
     "metadata": {},
     "output_type": "execute_result"
    }
   ],
   "source": [
    "formula1='SE_sestart~'+'+'.join(X1.columns.tolist())\n",
    "formula1"
   ]
  },
  {
   "cell_type": "code",
   "execution_count": 68,
   "metadata": {},
   "outputs": [
    {
     "name": "stdout",
     "output_type": "stream",
     "text": [
      "Optimization terminated successfully.\n",
      "         Current function value: 0.180865\n",
      "         Iterations 8\n"
     ]
    }
   ],
   "source": [
    "logit1=Logit.from_formula(formula=formula1, data=data_final1).fit()"
   ]
  },
  {
   "cell_type": "code",
   "execution_count": 69,
   "metadata": {
    "scrolled": true
   },
   "outputs": [
    {
     "data": {
      "text/html": [
       "<table class=\"simpletable\">\n",
       "<caption>Logit Regression Results</caption>\n",
       "<tr>\n",
       "  <th>Dep. Variable:</th>    <td>SE_sestart</td>    <th>  No. Observations:  </th>  <td>147978</td> \n",
       "</tr>\n",
       "<tr>\n",
       "  <th>Model:</th>               <td>Logit</td>      <th>  Df Residuals:      </th>  <td>147966</td> \n",
       "</tr>\n",
       "<tr>\n",
       "  <th>Method:</th>               <td>MLE</td>       <th>  Df Model:          </th>  <td>    11</td> \n",
       "</tr>\n",
       "<tr>\n",
       "  <th>Date:</th>          <td>Mon, 10 Dec 2018</td> <th>  Pseudo R-squ.:     </th>  <td>0.03605</td>\n",
       "</tr>\n",
       "<tr>\n",
       "  <th>Time:</th>              <td>16:18:08</td>     <th>  Log-Likelihood:    </th> <td> -26764.</td>\n",
       "</tr>\n",
       "<tr>\n",
       "  <th>converged:</th>           <td>True</td>       <th>  LL-Null:           </th> <td> -27765.</td>\n",
       "</tr>\n",
       "<tr>\n",
       "  <th> </th>                      <td> </td>        <th>  LLR p-value:       </th>  <td> 0.000</td> \n",
       "</tr>\n",
       "</table>\n",
       "<table class=\"simpletable\">\n",
       "<tr>\n",
       "              <td></td>                <th>coef</th>     <th>std err</th>      <th>z</th>      <th>P>|z|</th>  <th>[0.025</th>    <th>0.975]</th>  \n",
       "</tr>\n",
       "<tr>\n",
       "  <th>Intercept</th>                <td>   -3.0726</td> <td>    0.058</td> <td>  -52.848</td> <td> 0.000</td> <td>   -3.187</td> <td>   -2.959</td>\n",
       "</tr>\n",
       "<tr>\n",
       "  <th>Age</th>                      <td>   -0.0042</td> <td>    0.001</td> <td>   -4.816</td> <td> 0.000</td> <td>   -0.006</td> <td>   -0.002</td>\n",
       "</tr>\n",
       "<tr>\n",
       "  <th>Gender_male</th>              <td>    0.2797</td> <td>    0.025</td> <td>   11.022</td> <td> 0.000</td> <td>    0.230</td> <td>    0.329</td>\n",
       "</tr>\n",
       "<tr>\n",
       "  <th>Edu_doctoral</th>             <td>    1.0499</td> <td>    0.055</td> <td>   18.950</td> <td> 0.000</td> <td>    0.941</td> <td>    1.158</td>\n",
       "</tr>\n",
       "<tr>\n",
       "  <th>Edu_masters</th>              <td>    0.4419</td> <td>    0.030</td> <td>   14.917</td> <td> 0.000</td> <td>    0.384</td> <td>    0.500</td>\n",
       "</tr>\n",
       "<tr>\n",
       "  <th>Edu_primary</th>              <td>   -0.3657</td> <td>    0.057</td> <td>   -6.466</td> <td> 0.000</td> <td>   -0.477</td> <td>   -0.255</td>\n",
       "</tr>\n",
       "<tr>\n",
       "  <th>Edu_secondary</th>            <td>   -0.4172</td> <td>    0.043</td> <td>   -9.760</td> <td> 0.000</td> <td>   -0.501</td> <td>   -0.333</td>\n",
       "</tr>\n",
       "<tr>\n",
       "  <th>Income_Second_33_percent</th> <td>   -0.0304</td> <td>    0.038</td> <td>   -0.797</td> <td> 0.425</td> <td>   -0.105</td> <td>    0.044</td>\n",
       "</tr>\n",
       "<tr>\n",
       "  <th>Income_Third_33_percent</th>  <td>    0.2527</td> <td>    0.039</td> <td>    6.480</td> <td> 0.000</td> <td>    0.176</td> <td>    0.329</td>\n",
       "</tr>\n",
       "<tr>\n",
       "  <th>Employment_yes</th>           <td>   -0.0981</td> <td>    0.027</td> <td>   -3.629</td> <td> 0.000</td> <td>   -0.151</td> <td>   -0.045</td>\n",
       "</tr>\n",
       "<tr>\n",
       "  <th>GDPcat_low</th>               <td>    0.1951</td> <td>    0.029</td> <td>    6.642</td> <td> 0.000</td> <td>    0.138</td> <td>    0.253</td>\n",
       "</tr>\n",
       "<tr>\n",
       "  <th>GDPcat_medium</th>            <td>   -0.7507</td> <td>    0.039</td> <td>  -19.490</td> <td> 0.000</td> <td>   -0.826</td> <td>   -0.675</td>\n",
       "</tr>\n",
       "</table>"
      ],
      "text/plain": [
       "<class 'statsmodels.iolib.summary.Summary'>\n",
       "\"\"\"\n",
       "                           Logit Regression Results                           \n",
       "==============================================================================\n",
       "Dep. Variable:             SE_sestart   No. Observations:               147978\n",
       "Model:                          Logit   Df Residuals:                   147966\n",
       "Method:                           MLE   Df Model:                           11\n",
       "Date:                Mon, 10 Dec 2018   Pseudo R-squ.:                 0.03605\n",
       "Time:                        16:18:08   Log-Likelihood:                -26764.\n",
       "converged:                       True   LL-Null:                       -27765.\n",
       "                                        LLR p-value:                     0.000\n",
       "============================================================================================\n",
       "                               coef    std err          z      P>|z|      [0.025      0.975]\n",
       "--------------------------------------------------------------------------------------------\n",
       "Intercept                   -3.0726      0.058    -52.848      0.000      -3.187      -2.959\n",
       "Age                         -0.0042      0.001     -4.816      0.000      -0.006      -0.002\n",
       "Gender_male                  0.2797      0.025     11.022      0.000       0.230       0.329\n",
       "Edu_doctoral                 1.0499      0.055     18.950      0.000       0.941       1.158\n",
       "Edu_masters                  0.4419      0.030     14.917      0.000       0.384       0.500\n",
       "Edu_primary                 -0.3657      0.057     -6.466      0.000      -0.477      -0.255\n",
       "Edu_secondary               -0.4172      0.043     -9.760      0.000      -0.501      -0.333\n",
       "Income_Second_33_percent    -0.0304      0.038     -0.797      0.425      -0.105       0.044\n",
       "Income_Third_33_percent      0.2527      0.039      6.480      0.000       0.176       0.329\n",
       "Employment_yes              -0.0981      0.027     -3.629      0.000      -0.151      -0.045\n",
       "GDPcat_low                   0.1951      0.029      6.642      0.000       0.138       0.253\n",
       "GDPcat_medium               -0.7507      0.039    -19.490      0.000      -0.826      -0.675\n",
       "============================================================================================\n",
       "\"\"\""
      ]
     },
     "execution_count": 69,
     "metadata": {},
     "output_type": "execute_result"
    }
   ],
   "source": [
    "logit1.summary()"
   ]
  },
  {
   "cell_type": "code",
   "execution_count": 71,
   "metadata": {},
   "outputs": [
    {
     "data": {
      "text/html": [
       "<table class=\"simpletable\">\n",
       "<caption>Logit Marginal Effects</caption>\n",
       "<tr>\n",
       "  <th>Dep. Variable:</th> <td>SE_sestart</td>\n",
       "</tr>\n",
       "<tr>\n",
       "  <th>Method:</th>           <td>dydx</td>   \n",
       "</tr>\n",
       "<tr>\n",
       "  <th>At:</th>              <td>overall</td> \n",
       "</tr>\n",
       "</table>\n",
       "<table class=\"simpletable\">\n",
       "<tr>\n",
       "              <th></th>                <th>dy/dx</th>    <th>std err</th>      <th>z</th>      <th>P>|z|</th>  <th>[0.025</th>    <th>0.975]</th>  \n",
       "</tr>\n",
       "<tr>\n",
       "  <th>Age</th>                      <td>   -0.0002</td> <td> 3.78e-05</td> <td>   -4.811</td> <td> 0.000</td> <td>   -0.000</td> <td>   -0.000</td>\n",
       "</tr>\n",
       "<tr>\n",
       "  <th>Gender_male</th>              <td>    0.0122</td> <td>    0.001</td> <td>   10.964</td> <td> 0.000</td> <td>    0.010</td> <td>    0.014</td>\n",
       "</tr>\n",
       "<tr>\n",
       "  <th>Edu_doctoral</th>             <td>    0.0457</td> <td>    0.002</td> <td>   18.701</td> <td> 0.000</td> <td>    0.041</td> <td>    0.051</td>\n",
       "</tr>\n",
       "<tr>\n",
       "  <th>Edu_masters</th>              <td>    0.0193</td> <td>    0.001</td> <td>   14.774</td> <td> 0.000</td> <td>    0.017</td> <td>    0.022</td>\n",
       "</tr>\n",
       "<tr>\n",
       "  <th>Edu_primary</th>              <td>   -0.0159</td> <td>    0.002</td> <td>   -6.453</td> <td> 0.000</td> <td>   -0.021</td> <td>   -0.011</td>\n",
       "</tr>\n",
       "<tr>\n",
       "  <th>Edu_secondary</th>            <td>   -0.0182</td> <td>    0.002</td> <td>   -9.714</td> <td> 0.000</td> <td>   -0.022</td> <td>   -0.015</td>\n",
       "</tr>\n",
       "<tr>\n",
       "  <th>Income_Second_33_percent</th> <td>   -0.0013</td> <td>    0.002</td> <td>   -0.797</td> <td> 0.425</td> <td>   -0.005</td> <td>    0.002</td>\n",
       "</tr>\n",
       "<tr>\n",
       "  <th>Income_Third_33_percent</th>  <td>    0.0110</td> <td>    0.002</td> <td>    6.468</td> <td> 0.000</td> <td>    0.008</td> <td>    0.014</td>\n",
       "</tr>\n",
       "<tr>\n",
       "  <th>Employment_yes</th>           <td>   -0.0043</td> <td>    0.001</td> <td>   -3.627</td> <td> 0.000</td> <td>   -0.007</td> <td>   -0.002</td>\n",
       "</tr>\n",
       "<tr>\n",
       "  <th>GDPcat_low</th>               <td>    0.0085</td> <td>    0.001</td> <td>    6.630</td> <td> 0.000</td> <td>    0.006</td> <td>    0.011</td>\n",
       "</tr>\n",
       "<tr>\n",
       "  <th>GDPcat_medium</th>            <td>   -0.0327</td> <td>    0.002</td> <td>  -19.142</td> <td> 0.000</td> <td>   -0.036</td> <td>   -0.029</td>\n",
       "</tr>\n",
       "</table>"
      ],
      "text/plain": [
       "<class 'statsmodels.iolib.summary.Summary'>\n",
       "\"\"\"\n",
       "        Logit Marginal Effects       \n",
       "=====================================\n",
       "Dep. Variable:             SE_sestart\n",
       "Method:                          dydx\n",
       "At:                           overall\n",
       "============================================================================================\n",
       "                              dy/dx    std err          z      P>|z|      [0.025      0.975]\n",
       "--------------------------------------------------------------------------------------------\n",
       "Age                         -0.0002   3.78e-05     -4.811      0.000      -0.000      -0.000\n",
       "Gender_male                  0.0122      0.001     10.964      0.000       0.010       0.014\n",
       "Edu_doctoral                 0.0457      0.002     18.701      0.000       0.041       0.051\n",
       "Edu_masters                  0.0193      0.001     14.774      0.000       0.017       0.022\n",
       "Edu_primary                 -0.0159      0.002     -6.453      0.000      -0.021      -0.011\n",
       "Edu_secondary               -0.0182      0.002     -9.714      0.000      -0.022      -0.015\n",
       "Income_Second_33_percent    -0.0013      0.002     -0.797      0.425      -0.005       0.002\n",
       "Income_Third_33_percent      0.0110      0.002      6.468      0.000       0.008       0.014\n",
       "Employment_yes              -0.0043      0.001     -3.627      0.000      -0.007      -0.002\n",
       "GDPcat_low                   0.0085      0.001      6.630      0.000       0.006       0.011\n",
       "GDPcat_medium               -0.0327      0.002    -19.142      0.000      -0.036      -0.029\n",
       "============================================================================================\n",
       "\"\"\""
      ]
     },
     "execution_count": 71,
     "metadata": {},
     "output_type": "execute_result"
    }
   ],
   "source": [
    "logit1.get_margeff().summary()"
   ]
  },
  {
   "cell_type": "markdown",
   "metadata": {},
   "source": [
    "# Logistic Regression from sklearn, Decision tree, Random Forest "
   ]
  },
  {
   "cell_type": "code",
   "execution_count": 72,
   "metadata": {},
   "outputs": [],
   "source": [
    "grids_tree1=GridSearchCV(DecisionTreeClassifier(random_state=42,class_weight='balanced'),\n",
    "                        param_grid={\"max_depth\":range(3,10),\"min_samples_leaf\":range(20,70)},\n",
    "                        cv=5,n_jobs=-1,scoring=\"roc_auc\").fit(X1,Y1)\n",
    "grids_logit1=GridSearchCV(LogisticRegression(random_state=42,class_weight='balanced'),\n",
    "                        param_grid={\"C\":np.linspace(0.00001,20,10),\"penalty\":[\"l1\",\"l2\"]},\n",
    "                         cv=5,n_jobs=-1,scoring=\"roc_auc\").fit(X1,Y1)"
   ]
  },
  {
   "cell_type": "code",
   "execution_count": 73,
   "metadata": {},
   "outputs": [
    {
     "name": "stdout",
     "output_type": "stream",
     "text": [
      "Best params: {'class_weight': 'balanced', 'max_depth': 5, 'min_samples_leaf': 10}\n"
     ]
    }
   ],
   "source": [
    "print(\"Best params: {0}\".format(gridsearch.best_params_))"
   ]
  },
  {
   "cell_type": "code",
   "execution_count": 74,
   "metadata": {},
   "outputs": [
    {
     "data": {
      "text/plain": [
       "8.888894444444444"
      ]
     },
     "execution_count": 74,
     "metadata": {},
     "output_type": "execute_result"
    }
   ],
   "source": [
    "best=list(grids_logit1.best_params_.values())[0]\n",
    "best"
   ]
  },
  {
   "cell_type": "code",
   "execution_count": 75,
   "metadata": {},
   "outputs": [],
   "source": [
    "tree1=DecisionTreeClassifier(random_state=42,class_weight='balanced',max_depth=5,min_samples_leaf=10).fit(x_train1,y_train1)\n",
    "logit1=LogisticRegression(random_state=42,class_weight='balanced',C=best,penalty=\"l2\").fit(x_train1,y_train1)"
   ]
  },
  {
   "cell_type": "code",
   "execution_count": 76,
   "metadata": {},
   "outputs": [],
   "source": [
    "RF=RandomForestClassifier(random_state=42,class_weight=\"balanced\",max_depth=5,min_samples_leaf=10,n_estimators=30).fit(x_train1,y_train1)"
   ]
  },
  {
   "cell_type": "code",
   "execution_count": 77,
   "metadata": {},
   "outputs": [
    {
     "name": "stdout",
     "output_type": "stream",
     "text": [
      "\n",
      " Recall\n",
      "tree 70.0\n",
      "logit 66.0\n",
      "Random Forest 63.0\n",
      "\n",
      " ROC_AUC\n",
      "tree 57.99999999999999\n",
      "logit 57.99999999999999\n",
      "Random Forest 57.99999999999999\n",
      "\n",
      " Accuracy\n",
      "tree 48.0\n",
      "logit 51.0\n",
      "Random Forest 54.0\n"
     ]
    }
   ],
   "source": [
    "#Train\n",
    "model1={\"tree\":tree1,\"logit\":logit1, \"Random Forest\":RF}\n",
    "scores={\"Recall\": recall_score,\"ROC_AUC\":roc_auc_score,\"Accuracy\":accuracy_score}\n",
    "for score_names,scores in scores.items():\n",
    "    print(\"\\n\",score_names)\n",
    "    for model_names, models in model.items():\n",
    "        print(model_names,scores(y_train1,models.predict(x_train1)).round(2)*100)"
   ]
  },
  {
   "cell_type": "code",
   "execution_count": 78,
   "metadata": {},
   "outputs": [
    {
     "name": "stdout",
     "output_type": "stream",
     "text": [
      "\n",
      " Recall\n",
      "tree 69.0\n",
      "logit 66.0\n",
      "Random Forest 61.0\n",
      "\n",
      " ROC_AUC\n",
      "tree 57.99999999999999\n",
      "logit 57.99999999999999\n",
      "Random Forest 56.99999999999999\n",
      "\n",
      " Accuracy\n",
      "tree 48.0\n",
      "logit 51.0\n",
      "Random Forest 54.0\n"
     ]
    }
   ],
   "source": [
    "#Test\n",
    "model1={\"tree\":tree1,\"logit\":logit1, \"Random Forest\":RF}\n",
    "scores={\"Recall\": recall_score,\"ROC_AUC\":roc_auc_score,\"Accuracy\":accuracy_score}\n",
    "for score_names,scores in scores.items():\n",
    "    print(\"\\n\",score_names)\n",
    "    for model_names, models in model.items():\n",
    "        print(model_names,scores(y_test1,models.predict(x_test1)).round(2)*100)"
   ]
  },
  {
   "cell_type": "code",
   "execution_count": 80,
   "metadata": {},
   "outputs": [
    {
     "data": {
      "image/png": "[encoded data removed]",
      "text/plain": [
       "<Figure size 432x288 with 1 Axes>"
      ]
     },
     "metadata": {},
     "output_type": "display_data"
    }
   ],
   "source": [
    "FPR,TPR,tresholds=roc_curve(y_test1,tree1.predict_proba(x_test1)[:,1])\n",
    "plt.figure(figsize=(6,4))\n",
    "plt.plot(FPR,TPR,label=\"ROC AUC=%f\"%roc_auc_score(y_test1,tree1.predict(x_test1)))\n",
    "plt.plot([0,1],[0,1])\n",
    "plt.legend(loc=\"lower right\")\n",
    "plt.xlabel(\"FPR\")\n",
    "plt.ylabel(\"TPR\")\n",
    "plt.show()"
   ]
  },
  {
   "cell_type": "code",
   "execution_count": 89,
   "metadata": {},
   "outputs": [
    {
     "name": "stdout",
     "output_type": "stream",
     "text": [
      "mean cross val score tree: 0.6049403580220964\n",
      "mean cross val score logit: 0.6644514998615509\n",
      "mean cross val score RF2: 0.6345270911260755\n"
     ]
    }
   ],
   "source": [
    "print(\"mean cross val score tree:\",np.mean(cross_val_score(tree1,X1,Y1,cv=5,n_jobs=-1,scoring=\"roc_auc\")))\n",
    "print(\"mean cross val score logit:\",np.mean(cross_val_score(logit1,X1,Y1,cv=5,n_jobs=-1,scoring=\"roc_auc\")))\n",
    "print(\"mean cross val score RF2:\",np.mean(cross_val_score(RF,X1,Y1,cv=5,n_jobs=-1,scoring=\"roc_auc\")))"
   ]
  },
  {
   "cell_type": "code",
   "execution_count": 82,
   "metadata": {
    "scrolled": true
   },
   "outputs": [
    {
     "data": {
      "text/html": [
       "<div>\n",
       "<style scoped>\n",
       "    .dataframe tbody tr th:only-of-type {\n",
       "        vertical-align: middle;\n",
       "    }\n",
       "\n",
       "    .dataframe tbody tr th {\n",
       "        vertical-align: top;\n",
       "    }\n",
       "\n",
       "    .dataframe thead th {\n",
       "        text-align: right;\n",
       "    }\n",
       "</style>\n",
       "<table border=\"1\" class=\"dataframe\">\n",
       "  <thead>\n",
       "    <tr style=\"text-align: right;\">\n",
       "      <th></th>\n",
       "      <th>importances</th>\n",
       "    </tr>\n",
       "  </thead>\n",
       "  <tbody>\n",
       "    <tr>\n",
       "      <th>GDPcat_medium</th>\n",
       "      <td>0.333565</td>\n",
       "    </tr>\n",
       "    <tr>\n",
       "      <th>Edu_doctoral</th>\n",
       "      <td>0.167485</td>\n",
       "    </tr>\n",
       "    <tr>\n",
       "      <th>Edu_masters</th>\n",
       "      <td>0.147847</td>\n",
       "    </tr>\n",
       "    <tr>\n",
       "      <th>Age</th>\n",
       "      <td>0.117495</td>\n",
       "    </tr>\n",
       "    <tr>\n",
       "      <th>Edu_secondary</th>\n",
       "      <td>0.095846</td>\n",
       "    </tr>\n",
       "    <tr>\n",
       "      <th>Edu_primary</th>\n",
       "      <td>0.046029</td>\n",
       "    </tr>\n",
       "    <tr>\n",
       "      <th>Gender_male</th>\n",
       "      <td>0.044693</td>\n",
       "    </tr>\n",
       "    <tr>\n",
       "      <th>Income_Third_33_percent</th>\n",
       "      <td>0.042219</td>\n",
       "    </tr>\n",
       "    <tr>\n",
       "      <th>GDPcat_low</th>\n",
       "      <td>0.004270</td>\n",
       "    </tr>\n",
       "    <tr>\n",
       "      <th>Income_Second_33_percent</th>\n",
       "      <td>0.000551</td>\n",
       "    </tr>\n",
       "    <tr>\n",
       "      <th>Employment_yes</th>\n",
       "      <td>0.000000</td>\n",
       "    </tr>\n",
       "  </tbody>\n",
       "</table>\n",
       "</div>"
      ],
      "text/plain": [
       "                          importances\n",
       "GDPcat_medium                0.333565\n",
       "Edu_doctoral                 0.167485\n",
       "Edu_masters                  0.147847\n",
       "Age                          0.117495\n",
       "Edu_secondary                0.095846\n",
       "Edu_primary                  0.046029\n",
       "Gender_male                  0.044693\n",
       "Income_Third_33_percent      0.042219\n",
       "GDPcat_low                   0.004270\n",
       "Income_Second_33_percent     0.000551\n",
       "Employment_yes               0.000000"
      ]
     },
     "execution_count": 82,
     "metadata": {},
     "output_type": "execute_result"
    }
   ],
   "source": [
    "importance=pd.DataFrame(data=tree1.feature_importances_,index=X1.columns,columns=['importances'])\n",
    "importance.sort_values(by=\"importances\",ascending=False)"
   ]
  },
  {
   "cell_type": "code",
   "execution_count": 83,
   "metadata": {},
   "outputs": [],
   "source": [
    "tree_graph1=export_graphviz(tree1,out_file=\"tree1.dot\", class_names=True, feature_names=X1.columns, filled=True) "
   ]
  }
 ],
 "metadata": {
  "kernelspec": {
   "display_name": "Python 3",
   "language": "python",
   "name": "python3"
  },
  "language_info": {
   "codemirror_mode": {
    "name": "ipython",
    "version": 3
   },
   "file_extension": ".py",
   "mimetype": "text/x-python",
   "name": "python",
   "nbconvert_exporter": "python",
   "pygments_lexer": "ipython3",
   "version": "3.6.5"
  }
 },
 "nbformat": 4,
 "nbformat_minor": 2
}
